{
 "cells": [
  {
   "cell_type": "markdown",
   "metadata": {},
   "source": [
    "# Camaign DataSet"
   ]
  },
  {
   "cell_type": "markdown",
   "metadata": {},
   "source": [
    "import pandas as pd\n",
    "import numpy as np\n",
    "import matplotlib.pylab as plt\n",
    "import seaborn as sns\n",
    "import xlrd"
   ]
  },
  {
   "cell_type": "code",
   "execution_count": 2,
   "metadata": {},
   "outputs": [],
   "source": [
    "path=r\"C:\\Users\\$AHIL\\Desktop\\Merkle Sokrati\\Data Analyst Assignment.xlsx\""
   ]
  },
  {
   "cell_type": "code",
   "execution_count": 3,
   "metadata": {},
   "outputs": [],
   "source": [
    "# Method-1 to read the excel files\n",
    "\n",
    "wb=xlrd.open_workbook(path)"
   ]
  },
  {
   "cell_type": "code",
   "execution_count": 4,
   "metadata": {},
   "outputs": [
    {
     "name": "stdout",
     "output_type": "stream",
     "text": [
      "Date\n",
      "product\n",
      "phase\n",
      "campaign_platform\n",
      "campaign_type\n",
      "communication_medium\n",
      "subchannel\n",
      "audience_type\n",
      "creative_type\n",
      "creative_name\n",
      "device\n",
      "age\n",
      "spends\n",
      "impressions\n",
      "clicks\n",
      "link_clicks\n"
     ]
    }
   ],
   "source": [
    "sheet1=wb.sheet_by_index(0)\n",
    "for i in range(sheet1.ncols): \n",
    "    print(sheet1.cell_value(0, i))"
   ]
  },
  {
   "cell_type": "code",
   "execution_count": 5,
   "metadata": {},
   "outputs": [],
   "source": [
    "# Method-2 to read the excel files\n",
    "\n",
    "data = pd.read_excel(path, sheet_name='Assignment-1') "
   ]
  },
  {
   "cell_type": "code",
   "execution_count": 6,
   "metadata": {},
   "outputs": [
    {
     "data": {
      "text/html": [
       "<div>\n",
       "<style scoped>\n",
       "    .dataframe tbody tr th:only-of-type {\n",
       "        vertical-align: middle;\n",
       "    }\n",
       "\n",
       "    .dataframe tbody tr th {\n",
       "        vertical-align: top;\n",
       "    }\n",
       "\n",
       "    .dataframe thead th {\n",
       "        text-align: right;\n",
       "    }\n",
       "</style>\n",
       "<table border=\"1\" class=\"dataframe\">\n",
       "  <thead>\n",
       "    <tr style=\"text-align: right;\">\n",
       "      <th></th>\n",
       "      <th>Date</th>\n",
       "      <th>product</th>\n",
       "      <th>phase</th>\n",
       "      <th>campaign_platform</th>\n",
       "      <th>campaign_type</th>\n",
       "      <th>communication_medium</th>\n",
       "      <th>subchannel</th>\n",
       "      <th>audience_type</th>\n",
       "      <th>creative_type</th>\n",
       "      <th>creative_name</th>\n",
       "      <th>device</th>\n",
       "      <th>age</th>\n",
       "      <th>spends</th>\n",
       "      <th>impressions</th>\n",
       "      <th>clicks</th>\n",
       "      <th>link_clicks</th>\n",
       "    </tr>\n",
       "  </thead>\n",
       "  <tbody>\n",
       "    <tr>\n",
       "      <th>0</th>\n",
       "      <td>2019-10-16</td>\n",
       "      <td>Product 1</td>\n",
       "      <td>Performance</td>\n",
       "      <td>Google Ads</td>\n",
       "      <td>Search</td>\n",
       "      <td>Search Keywords</td>\n",
       "      <td>Brand</td>\n",
       "      <td>'-</td>\n",
       "      <td>'-</td>\n",
       "      <td>'-</td>\n",
       "      <td>Desktop</td>\n",
       "      <td>18-24</td>\n",
       "      <td>0.00</td>\n",
       "      <td>2</td>\n",
       "      <td>0</td>\n",
       "      <td>0.0</td>\n",
       "    </tr>\n",
       "    <tr>\n",
       "      <th>1</th>\n",
       "      <td>2019-10-16</td>\n",
       "      <td>Product 1</td>\n",
       "      <td>Performance</td>\n",
       "      <td>Google Ads</td>\n",
       "      <td>Search</td>\n",
       "      <td>Search Keywords</td>\n",
       "      <td>Brand</td>\n",
       "      <td>'-</td>\n",
       "      <td>'-</td>\n",
       "      <td>'-</td>\n",
       "      <td>Desktop</td>\n",
       "      <td>25-34</td>\n",
       "      <td>0.00</td>\n",
       "      <td>5</td>\n",
       "      <td>0</td>\n",
       "      <td>0.0</td>\n",
       "    </tr>\n",
       "    <tr>\n",
       "      <th>2</th>\n",
       "      <td>2019-10-16</td>\n",
       "      <td>Product 1</td>\n",
       "      <td>Performance</td>\n",
       "      <td>Google Ads</td>\n",
       "      <td>Search</td>\n",
       "      <td>Search Keywords</td>\n",
       "      <td>Brand</td>\n",
       "      <td>'-</td>\n",
       "      <td>'-</td>\n",
       "      <td>'-</td>\n",
       "      <td>Desktop</td>\n",
       "      <td>35-44</td>\n",
       "      <td>0.00</td>\n",
       "      <td>1</td>\n",
       "      <td>0</td>\n",
       "      <td>0.0</td>\n",
       "    </tr>\n",
       "    <tr>\n",
       "      <th>3</th>\n",
       "      <td>2019-10-16</td>\n",
       "      <td>Product 1</td>\n",
       "      <td>Performance</td>\n",
       "      <td>Google Ads</td>\n",
       "      <td>Search</td>\n",
       "      <td>Search Keywords</td>\n",
       "      <td>Brand</td>\n",
       "      <td>'-</td>\n",
       "      <td>'-</td>\n",
       "      <td>'-</td>\n",
       "      <td>Desktop</td>\n",
       "      <td>Undetermined</td>\n",
       "      <td>14.63</td>\n",
       "      <td>5</td>\n",
       "      <td>3</td>\n",
       "      <td>0.0</td>\n",
       "    </tr>\n",
       "    <tr>\n",
       "      <th>4</th>\n",
       "      <td>2019-10-18</td>\n",
       "      <td>Product 1</td>\n",
       "      <td>Performance</td>\n",
       "      <td>Google Ads</td>\n",
       "      <td>Search</td>\n",
       "      <td>Search Keywords</td>\n",
       "      <td>Brand</td>\n",
       "      <td>'-</td>\n",
       "      <td>'-</td>\n",
       "      <td>'-</td>\n",
       "      <td>Desktop</td>\n",
       "      <td>18-24</td>\n",
       "      <td>53.31</td>\n",
       "      <td>10</td>\n",
       "      <td>2</td>\n",
       "      <td>0.0</td>\n",
       "    </tr>\n",
       "  </tbody>\n",
       "</table>\n",
       "</div>"
      ],
      "text/plain": [
       "        Date    product        phase campaign_platform campaign_type  \\\n",
       "0 2019-10-16  Product 1  Performance        Google Ads        Search   \n",
       "1 2019-10-16  Product 1  Performance        Google Ads        Search   \n",
       "2 2019-10-16  Product 1  Performance        Google Ads        Search   \n",
       "3 2019-10-16  Product 1  Performance        Google Ads        Search   \n",
       "4 2019-10-18  Product 1  Performance        Google Ads        Search   \n",
       "\n",
       "  communication_medium subchannel audience_type creative_type creative_name  \\\n",
       "0      Search Keywords      Brand            '-            '-            '-   \n",
       "1      Search Keywords      Brand            '-            '-            '-   \n",
       "2      Search Keywords      Brand            '-            '-            '-   \n",
       "3      Search Keywords      Brand            '-            '-            '-   \n",
       "4      Search Keywords      Brand            '-            '-            '-   \n",
       "\n",
       "    device           age  spends  impressions  clicks  link_clicks  \n",
       "0  Desktop         18-24    0.00            2       0          0.0  \n",
       "1  Desktop         25-34    0.00            5       0          0.0  \n",
       "2  Desktop         35-44    0.00            1       0          0.0  \n",
       "3  Desktop  Undetermined   14.63            5       3          0.0  \n",
       "4  Desktop         18-24   53.31           10       2          0.0  "
      ]
     },
     "execution_count": 6,
     "metadata": {},
     "output_type": "execute_result"
    }
   ],
   "source": [
    "data.head()"
   ]
  },
  {
   "cell_type": "code",
   "execution_count": 7,
   "metadata": {},
   "outputs": [
    {
     "data": {
      "text/plain": [
       "(16834, 16)"
      ]
     },
     "execution_count": 7,
     "metadata": {},
     "output_type": "execute_result"
    }
   ],
   "source": [
    "data.shape"
   ]
  },
  {
   "cell_type": "code",
   "execution_count": 8,
   "metadata": {},
   "outputs": [
    {
     "data": {
      "text/html": [
       "<div>\n",
       "<style scoped>\n",
       "    .dataframe tbody tr th:only-of-type {\n",
       "        vertical-align: middle;\n",
       "    }\n",
       "\n",
       "    .dataframe tbody tr th {\n",
       "        vertical-align: top;\n",
       "    }\n",
       "\n",
       "    .dataframe thead th {\n",
       "        text-align: right;\n",
       "    }\n",
       "</style>\n",
       "<table border=\"1\" class=\"dataframe\">\n",
       "  <thead>\n",
       "    <tr style=\"text-align: right;\">\n",
       "      <th></th>\n",
       "      <th>spends</th>\n",
       "      <th>impressions</th>\n",
       "      <th>clicks</th>\n",
       "      <th>link_clicks</th>\n",
       "    </tr>\n",
       "  </thead>\n",
       "  <tbody>\n",
       "    <tr>\n",
       "      <th>count</th>\n",
       "      <td>16834.000000</td>\n",
       "      <td>16834.000000</td>\n",
       "      <td>16834.000000</td>\n",
       "      <td>16288.000000</td>\n",
       "    </tr>\n",
       "    <tr>\n",
       "      <th>mean</th>\n",
       "      <td>148.694236</td>\n",
       "      <td>287.959190</td>\n",
       "      <td>11.977783</td>\n",
       "      <td>2.170371</td>\n",
       "    </tr>\n",
       "    <tr>\n",
       "      <th>std</th>\n",
       "      <td>483.895724</td>\n",
       "      <td>2444.450313</td>\n",
       "      <td>44.796963</td>\n",
       "      <td>18.659132</td>\n",
       "    </tr>\n",
       "    <tr>\n",
       "      <th>min</th>\n",
       "      <td>0.000000</td>\n",
       "      <td>0.000000</td>\n",
       "      <td>0.000000</td>\n",
       "      <td>0.000000</td>\n",
       "    </tr>\n",
       "    <tr>\n",
       "      <th>25%</th>\n",
       "      <td>0.180000</td>\n",
       "      <td>3.000000</td>\n",
       "      <td>0.000000</td>\n",
       "      <td>0.000000</td>\n",
       "    </tr>\n",
       "    <tr>\n",
       "      <th>50%</th>\n",
       "      <td>22.535000</td>\n",
       "      <td>13.000000</td>\n",
       "      <td>2.000000</td>\n",
       "      <td>0.000000</td>\n",
       "    </tr>\n",
       "    <tr>\n",
       "      <th>75%</th>\n",
       "      <td>110.020000</td>\n",
       "      <td>64.000000</td>\n",
       "      <td>8.000000</td>\n",
       "      <td>0.000000</td>\n",
       "    </tr>\n",
       "    <tr>\n",
       "      <th>max</th>\n",
       "      <td>9221.960000</td>\n",
       "      <td>67454.000000</td>\n",
       "      <td>1075.000000</td>\n",
       "      <td>450.000000</td>\n",
       "    </tr>\n",
       "  </tbody>\n",
       "</table>\n",
       "</div>"
      ],
      "text/plain": [
       "             spends   impressions        clicks   link_clicks\n",
       "count  16834.000000  16834.000000  16834.000000  16288.000000\n",
       "mean     148.694236    287.959190     11.977783      2.170371\n",
       "std      483.895724   2444.450313     44.796963     18.659132\n",
       "min        0.000000      0.000000      0.000000      0.000000\n",
       "25%        0.180000      3.000000      0.000000      0.000000\n",
       "50%       22.535000     13.000000      2.000000      0.000000\n",
       "75%      110.020000     64.000000      8.000000      0.000000\n",
       "max     9221.960000  67454.000000   1075.000000    450.000000"
      ]
     },
     "execution_count": 8,
     "metadata": {},
     "output_type": "execute_result"
    }
   ],
   "source": [
    "data.describe()"
   ]
  },
  {
   "cell_type": "code",
   "execution_count": 9,
   "metadata": {},
   "outputs": [
    {
     "name": "stdout",
     "output_type": "stream",
     "text": [
      "<class 'pandas.core.frame.DataFrame'>\n",
      "RangeIndex: 16834 entries, 0 to 16833\n",
      "Data columns (total 16 columns):\n",
      "Date                    16834 non-null datetime64[ns]\n",
      "product                 16834 non-null object\n",
      "phase                   16834 non-null object\n",
      "campaign_platform       16834 non-null object\n",
      "campaign_type           16834 non-null object\n",
      "communication_medium    16834 non-null object\n",
      "subchannel              16834 non-null object\n",
      "audience_type           16834 non-null object\n",
      "creative_type           16834 non-null object\n",
      "creative_name           16834 non-null object\n",
      "device                  16834 non-null object\n",
      "age                     16834 non-null object\n",
      "spends                  16834 non-null float64\n",
      "impressions             16834 non-null int64\n",
      "clicks                  16834 non-null int64\n",
      "link_clicks             16288 non-null float64\n",
      "dtypes: datetime64[ns](1), float64(2), int64(2), object(11)\n",
      "memory usage: 2.1+ MB\n"
     ]
    }
   ],
   "source": [
    "data.info()"
   ]
  },
  {
   "cell_type": "code",
   "execution_count": 10,
   "metadata": {},
   "outputs": [
    {
     "data": {
      "text/plain": [
       "Date                     257\n",
       "product                    1\n",
       "phase                      1\n",
       "campaign_platform          2\n",
       "campaign_type              2\n",
       "communication_medium       2\n",
       "subchannel                 4\n",
       "audience_type              4\n",
       "creative_type              3\n",
       "creative_name              4\n",
       "device                     4\n",
       "age                        7\n",
       "spends                  9087\n",
       "impressions             1188\n",
       "clicks                   263\n",
       "link_clicks              160\n",
       "dtype: int64"
      ]
     },
     "execution_count": 10,
     "metadata": {},
     "output_type": "execute_result"
    }
   ],
   "source": [
    "data.nunique()"
   ]
  },
  {
   "cell_type": "code",
   "execution_count": 11,
   "metadata": {},
   "outputs": [],
   "source": [
    "# We can see that the columns: product and phase are having singular values\n",
    "# We can drop those columns since the act like constants and doesnt have any impact on predictions\n",
    "\n",
    "data.drop([\"product\",\"phase\"],axis=1,inplace=True)"
   ]
  },
  {
   "cell_type": "code",
   "execution_count": 12,
   "metadata": {},
   "outputs": [
    {
     "name": "stdout",
     "output_type": "stream",
     "text": [
      "'-            15101\n",
      "Audience 1      813\n",
      "Audience 2      738\n",
      "Audience 3      182\n",
      "Name: audience_type, dtype: int64\n",
      "'-          15101\n",
      "Image        1130\n",
      "Carousal      603\n",
      "Name: creative_type, dtype: int64\n",
      "'-            15101\n",
      "Audience 1      813\n",
      "Audience 2      738\n",
      "Audience 3      182\n",
      "Name: audience_type, dtype: int64\n"
     ]
    }
   ],
   "source": [
    "# analysis of audience_type, creative_type and creative_name since it is having lots of missing values\n",
    "\n",
    "print(data.audience_type.value_counts())\n",
    "print(data.creative_type.value_counts())\n",
    "print(data.audience_type.value_counts())"
   ]
  },
  {
   "cell_type": "code",
   "execution_count": 13,
   "metadata": {},
   "outputs": [
    {
     "name": "stderr",
     "output_type": "stream",
     "text": [
      "C:\\Andaconda\\lib\\site-packages\\ipykernel_launcher.py:5: SettingWithCopyWarning: \n",
      "A value is trying to be set on a copy of a slice from a DataFrame\n",
      "\n",
      "See the caveats in the documentation: http://pandas.pydata.org/pandas-docs/stable/indexing.html#indexing-view-versus-copy\n",
      "  \"\"\"\n",
      "C:\\Andaconda\\lib\\site-packages\\ipykernel_launcher.py:6: SettingWithCopyWarning: \n",
      "A value is trying to be set on a copy of a slice from a DataFrame\n",
      "\n",
      "See the caveats in the documentation: http://pandas.pydata.org/pandas-docs/stable/indexing.html#indexing-view-versus-copy\n",
      "  \n",
      "C:\\Andaconda\\lib\\site-packages\\ipykernel_launcher.py:7: SettingWithCopyWarning: \n",
      "A value is trying to be set on a copy of a slice from a DataFrame\n",
      "\n",
      "See the caveats in the documentation: http://pandas.pydata.org/pandas-docs/stable/indexing.html#indexing-view-versus-copy\n",
      "  import sys\n"
     ]
    }
   ],
   "source": [
    "# the above results clearly shows that the unknown string value ie. \" '- \" is going to create complexity ahead\n",
    "# so replace them with name \"other\"\n",
    "# Note: we cannot replace it with mean median or mode because the count of this factor is much higher then others.\n",
    "\n",
    "data.audience_type[data.audience_type==\"'-\"] = \"Other\"\n",
    "data.creative_type[data.creative_type==\"'-\"] = \"Other\"\n",
    "data.creative_name[data.creative_name==\"'-\"] = \"Other\""
   ]
  },
  {
   "cell_type": "code",
   "execution_count": 14,
   "metadata": {},
   "outputs": [
    {
     "data": {
      "text/plain": [
       "<matplotlib.axes._subplots.AxesSubplot at 0x25b6f3fc668>"
      ]
     },
     "execution_count": 14,
     "metadata": {},
     "output_type": "execute_result"
    },
    {
     "data": {
      "image/png": "[encoded data removed]",
      "text/plain": [
       "<Figure size 432x288 with 1 Axes>"
      ]
     },
     "metadata": {
      "needs_background": "light"
     },
     "output_type": "display_data"
    }
   ],
   "source": [
    "sns.distplot(data.spends)"
   ]
  },
  {
   "cell_type": "code",
   "execution_count": 15,
   "metadata": {},
   "outputs": [
    {
     "name": "stderr",
     "output_type": "stream",
     "text": [
      "C:\\Andaconda\\lib\\site-packages\\seaborn\\axisgrid.py:2065: UserWarning: The `size` parameter has been renamed to `height`; pleaes update your code.\n",
      "  warnings.warn(msg, UserWarning)\n",
      "C:\\Andaconda\\lib\\site-packages\\numpy\\lib\\histograms.py:839: RuntimeWarning: invalid value encountered in greater_equal\n",
      "  keep = (tmp_a >= first_edge)\n",
      "C:\\Andaconda\\lib\\site-packages\\numpy\\lib\\histograms.py:840: RuntimeWarning: invalid value encountered in less_equal\n",
      "  keep &= (tmp_a <= last_edge)\n"
     ]
    },
    {
     "data": {
      "image/png": "[encoded data removed]",
      "text/plain": [
       "<Figure size 720x720 with 20 Axes>"
      ]
     },
     "metadata": {},
     "output_type": "display_data"
    }
   ],
   "source": [
    "#scatterplot\n",
    "sns.set()\n",
    "sns.pairplot(data, size = 2.5)\n",
    "plt.show();"
   ]
  },
  {
   "cell_type": "code",
   "execution_count": 16,
   "metadata": {},
   "outputs": [
    {
     "data": {
      "text/plain": [
       "<seaborn.axisgrid.FacetGrid at 0x25b70021be0>"
      ]
     },
     "execution_count": 16,
     "metadata": {},
     "output_type": "execute_result"
    },
    {
     "data": {
      "image/png": "[encoded data removed]",
      "text/plain": [
       "<Figure size 1277.85x576 with 2 Axes>"
      ]
     },
     "metadata": {},
     "output_type": "display_data"
    }
   ],
   "source": [
    "sns.catplot(x=\"audience_type\", y=\"clicks\",\n",
    "                hue=\"communication_medium\", col=\"campaign_platform\",\n",
    "                data=data, kind=\"bar\",\n",
    "                height=8, aspect=1)\n",
    "\n",
    "# this shows that Google audience data is not present in dataset"
   ]
  },
  {
   "cell_type": "code",
   "execution_count": 17,
   "metadata": {},
   "outputs": [
    {
     "data": {
      "image/png": "[encoded data removed]",
      "text/plain": [
       "<Figure size 1047.45x576 with 2 Axes>"
      ]
     },
     "metadata": {},
     "output_type": "display_data"
    }
   ],
   "source": [
    "sns.catplot(x=\"device\", y=\"clicks\",\n",
    "            hue=\"communication_medium\", col=\"campaign_platform\",\n",
    "            data=data, kind=\"bar\",\n",
    "            height=8, aspect=.8);\n",
    "\n",
    "# this shows that the Facebook didnt captured any divice info data"
   ]
  },
  {
   "cell_type": "code",
   "execution_count": 18,
   "metadata": {},
   "outputs": [
    {
     "data": {
      "image/png": "[encoded data removed]",
      "text/plain": [
       "<Figure size 864x648 with 2 Axes>"
      ]
     },
     "metadata": {},
     "output_type": "display_data"
    }
   ],
   "source": [
    "#correlation matrix\n",
    "\n",
    "numeric_columns = [\"spends\",\"impressions\",\"clicks\",\"link_clicks\"]\n",
    "\n",
    "corrmat = data.corr()\n",
    "f, ax = plt.subplots(figsize=(12, 9))\n",
    "sns.heatmap(corrmat, annot=True, vmax=.8, square=True);"
   ]
  },
  {
   "cell_type": "code",
   "execution_count": 19,
   "metadata": {},
   "outputs": [
    {
     "data": {
      "text/html": [
       "<div>\n",
       "<style scoped>\n",
       "    .dataframe tbody tr th:only-of-type {\n",
       "        vertical-align: middle;\n",
       "    }\n",
       "\n",
       "    .dataframe tbody tr th {\n",
       "        vertical-align: top;\n",
       "    }\n",
       "\n",
       "    .dataframe thead th {\n",
       "        text-align: right;\n",
       "    }\n",
       "</style>\n",
       "<table border=\"1\" class=\"dataframe\">\n",
       "  <thead>\n",
       "    <tr style=\"text-align: right;\">\n",
       "      <th></th>\n",
       "      <th>Total</th>\n",
       "      <th>in %</th>\n",
       "    </tr>\n",
       "  </thead>\n",
       "  <tbody>\n",
       "    <tr>\n",
       "      <th>link_clicks</th>\n",
       "      <td>546</td>\n",
       "      <td>3.243436</td>\n",
       "    </tr>\n",
       "    <tr>\n",
       "      <th>clicks</th>\n",
       "      <td>0</td>\n",
       "      <td>0.000000</td>\n",
       "    </tr>\n",
       "    <tr>\n",
       "      <th>impressions</th>\n",
       "      <td>0</td>\n",
       "      <td>0.000000</td>\n",
       "    </tr>\n",
       "    <tr>\n",
       "      <th>spends</th>\n",
       "      <td>0</td>\n",
       "      <td>0.000000</td>\n",
       "    </tr>\n",
       "    <tr>\n",
       "      <th>age</th>\n",
       "      <td>0</td>\n",
       "      <td>0.000000</td>\n",
       "    </tr>\n",
       "    <tr>\n",
       "      <th>device</th>\n",
       "      <td>0</td>\n",
       "      <td>0.000000</td>\n",
       "    </tr>\n",
       "    <tr>\n",
       "      <th>creative_name</th>\n",
       "      <td>0</td>\n",
       "      <td>0.000000</td>\n",
       "    </tr>\n",
       "    <tr>\n",
       "      <th>creative_type</th>\n",
       "      <td>0</td>\n",
       "      <td>0.000000</td>\n",
       "    </tr>\n",
       "    <tr>\n",
       "      <th>audience_type</th>\n",
       "      <td>0</td>\n",
       "      <td>0.000000</td>\n",
       "    </tr>\n",
       "    <tr>\n",
       "      <th>subchannel</th>\n",
       "      <td>0</td>\n",
       "      <td>0.000000</td>\n",
       "    </tr>\n",
       "    <tr>\n",
       "      <th>communication_medium</th>\n",
       "      <td>0</td>\n",
       "      <td>0.000000</td>\n",
       "    </tr>\n",
       "    <tr>\n",
       "      <th>campaign_type</th>\n",
       "      <td>0</td>\n",
       "      <td>0.000000</td>\n",
       "    </tr>\n",
       "    <tr>\n",
       "      <th>campaign_platform</th>\n",
       "      <td>0</td>\n",
       "      <td>0.000000</td>\n",
       "    </tr>\n",
       "    <tr>\n",
       "      <th>Date</th>\n",
       "      <td>0</td>\n",
       "      <td>0.000000</td>\n",
       "    </tr>\n",
       "  </tbody>\n",
       "</table>\n",
       "</div>"
      ],
      "text/plain": [
       "                      Total      in %\n",
       "link_clicks             546  3.243436\n",
       "clicks                    0  0.000000\n",
       "impressions               0  0.000000\n",
       "spends                    0  0.000000\n",
       "age                       0  0.000000\n",
       "device                    0  0.000000\n",
       "creative_name             0  0.000000\n",
       "creative_type             0  0.000000\n",
       "audience_type             0  0.000000\n",
       "subchannel                0  0.000000\n",
       "communication_medium      0  0.000000\n",
       "campaign_type             0  0.000000\n",
       "campaign_platform         0  0.000000\n",
       "Date                      0  0.000000"
      ]
     },
     "execution_count": 19,
     "metadata": {},
     "output_type": "execute_result"
    }
   ],
   "source": [
    "#missing data\n",
    "total = data.isnull().sum().sort_values(ascending=False)\n",
    "percent = (data.isnull().sum()/data.isnull().count()).sort_values(ascending=False)\n",
    "missing_data = pd.concat([total, percent*100], axis=1, keys=['Total', 'in %'])\n",
    "missing_data.head(20)"
   ]
  },
  {
   "cell_type": "code",
   "execution_count": 20,
   "metadata": {},
   "outputs": [],
   "source": [
    "# factor/categorical Data \n",
    "\n",
    "# taking backup of the dataset\n",
    "df = data.copy(\"deep\")\n",
    "\n",
    "from sklearn.preprocessing import LabelEncoder\n",
    "df['campaign_platform'] = LabelEncoder().fit_transform(df['campaign_platform'])\n",
    "df['communication_medium'] = LabelEncoder().fit_transform(df['communication_medium'])\n",
    "df['subchannel'] = LabelEncoder().fit_transform(df['subchannel'])\n",
    "df['device'] = LabelEncoder().fit_transform(df['device'])\n",
    "df['age'] = LabelEncoder().fit_transform(df['age'])\n",
    "df['audience_type'] = LabelEncoder().fit_transform(df['audience_type'])\n",
    "df['creative_type'] = LabelEncoder().fit_transform(df['creative_type'])\n",
    "df['creative_name'] = LabelEncoder().fit_transform(df['creative_name'])\n",
    "df['campaign_type'] = LabelEncoder().fit_transform(df['campaign_type'])"
   ]
  },
  {
   "cell_type": "code",
   "execution_count": 21,
   "metadata": {},
   "outputs": [
    {
     "name": "stdout",
     "output_type": "stream",
     "text": [
      "<class 'pandas.core.frame.DataFrame'>\n",
      "RangeIndex: 16834 entries, 0 to 16833\n",
      "Data columns (total 13 columns):\n",
      "campaign_platform       16834 non-null int32\n",
      "campaign_type           16834 non-null int32\n",
      "communication_medium    16834 non-null int32\n",
      "subchannel              16834 non-null int32\n",
      "audience_type           16834 non-null int32\n",
      "creative_type           16834 non-null int32\n",
      "creative_name           16834 non-null int32\n",
      "device                  16834 non-null int32\n",
      "age                     16834 non-null int32\n",
      "spends                  16834 non-null float64\n",
      "impressions             16834 non-null int64\n",
      "clicks                  16834 non-null int64\n",
      "link_clicks             16288 non-null float64\n",
      "dtypes: float64(2), int32(9), int64(2)\n",
      "memory usage: 1.1 MB\n"
     ]
    }
   ],
   "source": [
    "# remove date column since we are not doing time series analysis\n",
    "\n",
    "df.drop(\"Date\",axis=1,inplace=True)\n",
    "df.info()"
   ]
  },
  {
   "cell_type": "markdown",
   "metadata": {},
   "source": [
    "## Regression Model Building for Predicting Missing Values"
   ]
  },
  {
   "cell_type": "code",
   "execution_count": 22,
   "metadata": {},
   "outputs": [
    {
     "name": "stdout",
     "output_type": "stream",
     "text": [
      "(10912, 12) (10912,)\n",
      "(5376, 12) (5376,)\n"
     ]
    }
   ],
   "source": [
    "# since column link_clicks is having 546 null values, lets build a Predictive ML-Model for them\n",
    "\n",
    "# since the link_clicks is continuous, lets build Regression Model\n",
    "\n",
    "# Split the data on the base of link_clicks column: where train = non null data & test = null data\n",
    "\n",
    "from sklearn.model_selection import train_test_split\n",
    "\n",
    "test = df[df['link_clicks'].isnull()]\n",
    "train = df[df['link_clicks'].notnull()]\n",
    "\n",
    "X,y = train.iloc[:,:-1], train.link_clicks\n",
    "\n",
    "X_train, X_test, y_train, y_test = train_test_split(X, y, test_size=0.33, random_state=42)\n",
    "\n",
    "# X_test, y_test = test.iloc[:,:-1], test.link_clicks\n",
    "# X_train, y_train = train.iloc[:,:-1], train.link_clicks\n",
    "\n",
    "print(X_train.shape, y_train.shape)\n",
    "print(X_test.shape, y_test.shape)\n"
   ]
  },
  {
   "cell_type": "code",
   "execution_count": 24,
   "metadata": {},
   "outputs": [
    {
     "data": {
      "text/html": [
       "<table class=\"simpletable\">\n",
       "<caption>OLS Regression Results</caption>\n",
       "<tr>\n",
       "  <th>Dep. Variable:</th>       <td>link_clicks</td>   <th>  R-squared:         </th> <td>   0.957</td> \n",
       "</tr>\n",
       "<tr>\n",
       "  <th>Model:</th>                   <td>OLS</td>       <th>  Adj. R-squared:    </th> <td>   0.957</td> \n",
       "</tr>\n",
       "<tr>\n",
       "  <th>Method:</th>             <td>Least Squares</td>  <th>  F-statistic:       </th> <td>2.426e+04</td>\n",
       "</tr>\n",
       "<tr>\n",
       "  <th>Date:</th>             <td>Sat, 22 Aug 2020</td> <th>  Prob (F-statistic):</th>  <td>  0.00</td>  \n",
       "</tr>\n",
       "<tr>\n",
       "  <th>Time:</th>                 <td>12:13:57</td>     <th>  Log-Likelihood:    </th> <td> -30230.</td> \n",
       "</tr>\n",
       "<tr>\n",
       "  <th>No. Observations:</th>      <td> 10912</td>      <th>  AIC:               </th> <td>6.048e+04</td>\n",
       "</tr>\n",
       "<tr>\n",
       "  <th>Df Residuals:</th>          <td> 10901</td>      <th>  BIC:               </th> <td>6.056e+04</td>\n",
       "</tr>\n",
       "<tr>\n",
       "  <th>Df Model:</th>              <td>    10</td>      <th>                     </th>     <td> </td>    \n",
       "</tr>\n",
       "<tr>\n",
       "  <th>Covariance Type:</th>      <td>nonrobust</td>    <th>                     </th>     <td> </td>    \n",
       "</tr>\n",
       "</table>\n",
       "<table class=\"simpletable\">\n",
       "<tr>\n",
       "            <td></td>              <th>coef</th>     <th>std err</th>      <th>t</th>      <th>P>|t|</th>  <th>[0.025</th>    <th>0.975]</th>  \n",
       "</tr>\n",
       "<tr>\n",
       "  <th>const</th>                <td>    4.6854</td> <td>    0.341</td> <td>   13.755</td> <td> 0.000</td> <td>    4.018</td> <td>    5.353</td>\n",
       "</tr>\n",
       "<tr>\n",
       "  <th>campaign_platform</th>    <td>   -1.1900</td> <td>    0.231</td> <td>   -5.141</td> <td> 0.000</td> <td>   -1.644</td> <td>   -0.736</td>\n",
       "</tr>\n",
       "<tr>\n",
       "  <th>campaign_type</th>        <td>   -1.1900</td> <td>    0.231</td> <td>   -5.141</td> <td> 0.000</td> <td>   -1.644</td> <td>   -0.736</td>\n",
       "</tr>\n",
       "<tr>\n",
       "  <th>communication_medium</th> <td>   -1.1900</td> <td>    0.231</td> <td>   -5.141</td> <td> 0.000</td> <td>   -1.644</td> <td>   -0.736</td>\n",
       "</tr>\n",
       "<tr>\n",
       "  <th>subchannel</th>           <td>    0.1953</td> <td>    0.030</td> <td>    6.513</td> <td> 0.000</td> <td>    0.137</td> <td>    0.254</td>\n",
       "</tr>\n",
       "<tr>\n",
       "  <th>audience_type</th>        <td>   -1.3542</td> <td>    0.224</td> <td>   -6.057</td> <td> 0.000</td> <td>   -1.792</td> <td>   -0.916</td>\n",
       "</tr>\n",
       "<tr>\n",
       "  <th>creative_type</th>        <td>   10.1764</td> <td>    0.586</td> <td>   17.358</td> <td> 0.000</td> <td>    9.027</td> <td>   11.326</td>\n",
       "</tr>\n",
       "<tr>\n",
       "  <th>creative_name</th>        <td>   -6.0719</td> <td>    0.351</td> <td>  -17.277</td> <td> 0.000</td> <td>   -6.761</td> <td>   -5.383</td>\n",
       "</tr>\n",
       "<tr>\n",
       "  <th>device</th>               <td>   -0.3450</td> <td>    0.060</td> <td>   -5.742</td> <td> 0.000</td> <td>   -0.463</td> <td>   -0.227</td>\n",
       "</tr>\n",
       "<tr>\n",
       "  <th>age</th>                  <td>    0.0112</td> <td>    0.019</td> <td>    0.603</td> <td> 0.546</td> <td>   -0.025</td> <td>    0.048</td>\n",
       "</tr>\n",
       "<tr>\n",
       "  <th>spends</th>               <td>   -0.0072</td> <td>    0.000</td> <td>  -49.320</td> <td> 0.000</td> <td>   -0.008</td> <td>   -0.007</td>\n",
       "</tr>\n",
       "<tr>\n",
       "  <th>impressions</th>          <td>    0.0049</td> <td> 3.86e-05</td> <td>  127.298</td> <td> 0.000</td> <td>    0.005</td> <td>    0.005</td>\n",
       "</tr>\n",
       "<tr>\n",
       "  <th>clicks</th>               <td>    0.1795</td> <td>    0.003</td> <td>   67.677</td> <td> 0.000</td> <td>    0.174</td> <td>    0.185</td>\n",
       "</tr>\n",
       "</table>\n",
       "<table class=\"simpletable\">\n",
       "<tr>\n",
       "  <th>Omnibus:</th>       <td>9567.361</td> <th>  Durbin-Watson:     </th>  <td>   1.998</td>  \n",
       "</tr>\n",
       "<tr>\n",
       "  <th>Prob(Omnibus):</th>  <td> 0.000</td>  <th>  Jarque-Bera (JB):  </th> <td>4388751.958</td>\n",
       "</tr>\n",
       "<tr>\n",
       "  <th>Skew:</th>           <td> 3.250</td>  <th>  Prob(JB):          </th>  <td>    0.00</td>  \n",
       "</tr>\n",
       "<tr>\n",
       "  <th>Kurtosis:</th>       <td>101.033</td> <th>  Cond. No.          </th>  <td>4.08e+19</td>  \n",
       "</tr>\n",
       "</table><br/><br/>Warnings:<br/>[1] Standard Errors assume that the covariance matrix of the errors is correctly specified.<br/>[2] The smallest eigenvalue is 4.32e-29. This might indicate that there are<br/>strong multicollinearity problems or that the design matrix is singular."
      ],
      "text/plain": [
       "<class 'statsmodels.iolib.summary.Summary'>\n",
       "\"\"\"\n",
       "                            OLS Regression Results                            \n",
       "==============================================================================\n",
       "Dep. Variable:            link_clicks   R-squared:                       0.957\n",
       "Model:                            OLS   Adj. R-squared:                  0.957\n",
       "Method:                 Least Squares   F-statistic:                 2.426e+04\n",
       "Date:                Sat, 22 Aug 2020   Prob (F-statistic):               0.00\n",
       "Time:                        12:13:57   Log-Likelihood:                -30230.\n",
       "No. Observations:               10912   AIC:                         6.048e+04\n",
       "Df Residuals:                   10901   BIC:                         6.056e+04\n",
       "Df Model:                          10                                         \n",
       "Covariance Type:            nonrobust                                         \n",
       "========================================================================================\n",
       "                           coef    std err          t      P>|t|      [0.025      0.975]\n",
       "----------------------------------------------------------------------------------------\n",
       "const                    4.6854      0.341     13.755      0.000       4.018       5.353\n",
       "campaign_platform       -1.1900      0.231     -5.141      0.000      -1.644      -0.736\n",
       "campaign_type           -1.1900      0.231     -5.141      0.000      -1.644      -0.736\n",
       "communication_medium    -1.1900      0.231     -5.141      0.000      -1.644      -0.736\n",
       "subchannel               0.1953      0.030      6.513      0.000       0.137       0.254\n",
       "audience_type           -1.3542      0.224     -6.057      0.000      -1.792      -0.916\n",
       "creative_type           10.1764      0.586     17.358      0.000       9.027      11.326\n",
       "creative_name           -6.0719      0.351    -17.277      0.000      -6.761      -5.383\n",
       "device                  -0.3450      0.060     -5.742      0.000      -0.463      -0.227\n",
       "age                      0.0112      0.019      0.603      0.546      -0.025       0.048\n",
       "spends                  -0.0072      0.000    -49.320      0.000      -0.008      -0.007\n",
       "impressions              0.0049   3.86e-05    127.298      0.000       0.005       0.005\n",
       "clicks                   0.1795      0.003     67.677      0.000       0.174       0.185\n",
       "==============================================================================\n",
       "Omnibus:                     9567.361   Durbin-Watson:                   1.998\n",
       "Prob(Omnibus):                  0.000   Jarque-Bera (JB):          4388751.958\n",
       "Skew:                           3.250   Prob(JB):                         0.00\n",
       "Kurtosis:                     101.033   Cond. No.                     4.08e+19\n",
       "==============================================================================\n",
       "\n",
       "Warnings:\n",
       "[1] Standard Errors assume that the covariance matrix of the errors is correctly specified.\n",
       "[2] The smallest eigenvalue is 4.32e-29. This might indicate that there are\n",
       "strong multicollinearity problems or that the design matrix is singular.\n",
       "\"\"\""
      ]
     },
     "execution_count": 24,
     "metadata": {},
     "output_type": "execute_result"
    }
   ],
   "source": [
    "# Linear Regression\n",
    "\n",
    "from statsmodels.api import OLS\n",
    "import statsmodels.api as sm\n",
    "\n",
    "X = sm.add_constant(X_train) \n",
    "Xtest = sm.add_constant(X_test) \n",
    "linear_reg = sm.OLS(y_train,X).fit()\n",
    "linear_reg.summary()"
   ]
  },
  {
   "cell_type": "code",
   "execution_count": 25,
   "metadata": {},
   "outputs": [
    {
     "name": "stdout",
     "output_type": "stream",
     "text": [
      "Residuals:  -2.5396001691305887e-13\n",
      "SSE = 82994.08 \n",
      "MSE = 15.44\n"
     ]
    }
   ],
   "source": [
    "pred = linear_reg.predict(X)\n",
    "residuals=y_train-pred\n",
    "print(\"Residuals: \",residuals.mean())  # residuals must be near to zero\n",
    "\n",
    "# Prediction on splited test data\n",
    "p1=linear_reg.predict(Xtest)\n",
    "sse=round(sum((y_test-p1)**2),2)\n",
    "mse=round(sse/len(y_test),2)\n",
    "\n",
    "print(\"SSE = {} \\nMSE = {}\".format(sse,mse))"
   ]
  },
  {
   "cell_type": "code",
   "execution_count": 29,
   "metadata": {},
   "outputs": [
    {
     "name": "stdout",
     "output_type": "stream",
     "text": [
      "alpha=0.1\n",
      "[('Date', -1.188067836852517), ('campaign_platform', -1.1880678368481792), ('campaign_type', -1.188067836843813), ('communication_medium', 0.19537623773097804), ('subchannel', -1.3533756683033897), ('audience_type', 10.145235698542368), ('creative_type', -6.0551529169199), ('creative_name', -0.344992515648597), ('device', 0.011285244918055128), ('age', -0.0072348145569425025), ('spends', 0.004915950955218106), ('impressions', 0.17948879351222405)]\n",
      "\n",
      "\n",
      "alpha=0.18888888888888888\n",
      "[('Date', -1.1863558255943907), ('campaign_platform', -1.1863558255961821), ('campaign_type', -1.1863558255984186), ('communication_medium', 0.19540083509935047), ('subchannel', -1.3526896005827969), ('audience_type', 10.11772084156907), ('creative_type', -6.0403619099350205), ('creative_name', -0.3449569402047532), ('device', 0.011322568800003294), ('age', -0.00723542944947232), ('spends', 0.004915945783546154), ('impressions', 0.17950878973603743)]\n",
      "\n",
      "\n",
      "alpha=0.2777777777777778\n",
      "[('Date', -1.1846517751317116), ('campaign_platform', -1.1846517751323027), ('campaign_type', -1.1846517751299093), ('communication_medium', 0.19542531418455372), ('subchannel', -1.3520073947400957), ('audience_type', 10.090349796122474), ('creative_type', -6.0256489356540675), ('creative_name', -0.3449213767063683), ('device', 0.011359693138619911), ('age', -0.007236041220784561), ('spends', 0.004915940646506347), ('impressions', 0.17952868252393311)]\n",
      "\n",
      "\n",
      "alpha=0.3666666666666667\n",
      "[('Date', -1.1829556263634198), ('campaign_platform', -1.182955626377066), ('campaign_type', -1.1829556263723648), ('communication_medium', 0.19544967589292273), ('subchannel', -1.3513290182137498), ('audience_type', 10.063121436494702), ('creative_type', -6.0110133816282225), ('creative_name', -0.3448858252154897), ('device', 0.011396619503505036), ('age', -0.007236649895169901), ('spends', 0.004915935543862386), ('impressions', 0.17954847268340562)]\n",
      "\n",
      "\n",
      "alpha=0.4555555555555556\n",
      "[('Date', -1.1812673208352), ('campaign_platform', -1.1812673208326712), ('campaign_type', -1.1812673208326157), ('communication_medium', 0.195473921121433), ('subchannel', -1.350654438792863), ('audience_type', 10.036034648697472), ('creative_type', -5.996454641791227), ('creative_name', -0.3448502857928895), ('device', 0.011433349447876474), ('age', -0.0072372554966665436), ('spends', 0.00491593047538034), ('impressions', 0.1795681610135454)]\n",
      "\n",
      "\n",
      "alpha=0.5444444444444445\n",
      "[('Date', -1.179586800630184), ('campaign_platform', -1.1795868006284405), ('campaign_type', -1.1795868006298706), ('communication_medium', 0.1954980507578406), ('subchannel', -1.349983624612842), ('audience_type', 10.009088330311796), ('creative_type', -5.981972116377815), ('creative_name', -0.34481475849807963), ('device', 0.011469884508788192), ('age', -0.007237858049063906), ('spends', 0.004915925440828433), ('impressions', 0.17958774830516058)]\n",
      "\n",
      "\n",
      "alpha=0.6333333333333333\n",
      "[('Date', -1.177914008451356), ('campaign_platform', -1.1779140084542092), ('campaign_type', -1.177914008457502), ('communication_medium', 0.19552206568077815), ('subchannel', -1.349316544150791), ('audience_type', 9.982281390337866), ('creative_type', -5.967565211841805), ('creative_name', -0.3447792433893119), ('device', 0.011506226207332633), ('age', -0.007238457575905312), ('spends', 0.004915920439977184), ('impressions', 0.17960723534087064)]\n",
      "\n",
      "\n",
      "alpha=0.7222222222222222\n",
      "[('Date', -1.1762488875828208), ('campaign_platform', -1.1762488875802315), ('campaign_type', -1.1762488875803092), ('communication_medium', 0.19554596675988992), ('subchannel', -1.3486531662207029), ('audience_type', 9.955612749046622), ('creative_type', -5.953233340775118), ('creative_name', -0.3447437405236278), ('device', 0.011542376048853773), ('age', -0.0072390541004916), ('spends', 0.004915915472599278), ('impressions', 0.17962662289522213)]\n",
      "\n",
      "\n",
      "alpha=0.8111111111111111\n",
      "[('Date', -1.1745913818538491), ('campaign_platform', -1.1745913818516929), ('campaign_type', -1.1745913818522316), ('communication_medium', 0.19556975485593656), ('subchannel', -1.3479934599695935), ('audience_type', 9.929081337835127), ('creative_type', -5.938975921829181), ('creative_name', -0.344708249956849), ('device', 0.011578335523145394), ('age', -0.007239647645883972), ('spends', 0.004915910538469597), ('impressions', 0.1796459117347863)]\n",
      "\n",
      "\n",
      "alpha=0.9\n",
      "[('Date', -1.172941435673172), ('campaign_platform', -1.1729414356749424), ('campaign_type', -1.1729414356752663), ('communication_medium', 0.1955934308209167), ('subchannel', -1.347337394872854), ('audience_type', 9.902686099084182), ('creative_type', -5.9247923796372275), ('creative_name', -0.344672771743617), ('device', 0.011614106104654146), ('age', -0.007240238234907251), ('spends', 0.004915905637365138), ('impressions', 0.17966510261826615)]\n",
      "\n",
      "\n",
      "[15.437528150804061, 15.437217087526077, 15.436913699718792, 15.436617879942157, 15.436329522367426, 15.436048522749397, 15.43577477840003, 15.435508188162187, 15.435248652383564, 15.434996072891709]\n",
      "\n",
      "\n",
      "\n",
      "MSE: \n",
      "Linear_reg = 15.44, \n",
      "Ridge = 15.434996072891709\n"
     ]
    }
   ],
   "source": [
    "# Ridge Regression & Lasso Regression\n",
    "\n",
    "# to Penalize the Magnitude of Coefficients\n",
    "\n",
    "from sklearn import datasets, linear_model\n",
    "from sklearn.model_selection import cross_val_score\n",
    "\n",
    "# ridge = linear_model.Ridge()\n",
    "# print(cross_val_score(ridge, X_train, y_train, cv=3))\n",
    "\n",
    "\n",
    "cols = list(data.columns)\n",
    "cols\n",
    "\n",
    "cols.remove('link_clicks')\n",
    "cols\n",
    "\n",
    "alpha=np.linspace(0.1,0.9,10)\n",
    "ridge_sse=[]\n",
    "\n",
    "for a in alpha:\n",
    "    print('alpha={}'.format(a))\n",
    "    \n",
    "    #build ridge model and predict\n",
    "    r1=linear_model.Ridge(alpha=a).fit(X_train,y_train)\n",
    "    p2= r1.predict(X_test)\n",
    "\n",
    "    #calc the sse\n",
    "    e1=np.mean((p2-y_test)**2)\n",
    "    ridge_sse.append(e1)\n",
    "\n",
    "    #print the coefficients\n",
    "    r_coeff =list(r1.coef_)\n",
    "    print(list(zip(cols,r_coeff)))\n",
    "    print(\"\\n\")\n",
    "    \n",
    "print(ridge_sse)\n",
    "min(ridge_sse)\n",
    "\n",
    "#print the sse of 2 models\n",
    "print(\"\\n\\n\")\n",
    "print(\"MSE: \\nLinear_reg = {}, \\nRidge = {}\".format(mse,min(ridge_sse)))\n",
    "\n"
   ]
  },
  {
   "cell_type": "code",
   "execution_count": 28,
   "metadata": {},
   "outputs": [
    {
     "name": "stdout",
     "output_type": "stream",
     "text": [
      "alpha=0.1\n",
      "[('Date', -0.0), ('campaign_platform', -0.0), ('campaign_type', -0.0), ('communication_medium', 0.16576009661956298), ('subchannel', -1.140279893627809), ('audience_type', -0.0), ('creative_type', -0.6629665819998716), ('creative_name', -0.0), ('device', 0.0), ('age', -0.007506281008260995), ('spends', 0.004956494544338766), ('impressions', 0.186137693802092)]\n",
      "\n",
      "\n",
      "alpha=0.18888888888888888\n",
      "[('Date', -0.0), ('campaign_platform', -0.0), ('campaign_type', -0.0), ('communication_medium', 0.13294331566037024), ('subchannel', -1.1239777077645225), ('audience_type', -0.0), ('creative_type', -0.38734899430680153), ('creative_name', 0.0), ('device', 0.0), ('age', -0.007544528110757935), ('spends', 0.004983809787536742), ('impressions', 0.18618905817134243)]\n",
      "\n",
      "\n",
      "alpha=0.2777777777777778\n",
      "[('Date', -0.0), ('campaign_platform', -0.0), ('campaign_type', -0.0), ('communication_medium', 0.10012641360176742), ('subchannel', -1.1076722274798485), ('audience_type', -0.0), ('creative_type', -0.11173263764385283), ('creative_name', 0.0), ('device', 0.0), ('age', -0.007582771385701842), ('spends', 0.005011133127817946), ('impressions', 0.18623998791268456)]\n",
      "\n",
      "\n",
      "alpha=0.3666666666666667\n",
      "[('Date', -0.0), ('campaign_platform', -0.0), ('campaign_type', -0.0), ('communication_medium', 0.06649220341302564), ('subchannel', -0.9594315288099347), ('audience_type', -0.0), ('creative_type', -0.0), ('creative_name', 0.0), ('device', -0.0), ('age', -0.007624269909691414), ('spends', 0.005038614668175652), ('impressions', 0.18642836361887946)]\n",
      "\n",
      "\n",
      "alpha=0.4555555555555556\n",
      "[('Date', -0.0), ('campaign_platform', -0.0), ('campaign_type', -0.0), ('communication_medium', 0.032303739067353905), ('subchannel', -0.721247948069567), ('audience_type', -0.0), ('creative_type', -0.0), ('creative_name', 0.0), ('device', -0.0), ('age', -0.0076680419406277645), ('spends', 0.005066128836996027), ('impressions', 0.1867147296778361)]\n",
      "\n",
      "\n",
      "alpha=0.5444444444444445\n",
      "[('Date', -0.0), ('campaign_platform', -0.0), ('campaign_type', -0.0), ('communication_medium', 0.0), ('subchannel', -0.4822705040699043), ('audience_type', -0.0), ('creative_type', -0.0), ('creative_name', 0.0), ('device', -0.0), ('age', -0.007713703430256888), ('spends', 0.005093589359506513), ('impressions', 0.18702142867344557)]\n",
      "\n",
      "\n",
      "alpha=0.6333333333333333\n",
      "[('Date', -0.0), ('campaign_platform', -0.0), ('campaign_type', -0.0), ('communication_medium', 0.0), ('subchannel', -0.2298060190112836), ('audience_type', -0.0), ('creative_type', -0.0), ('creative_name', 0.0), ('device', -0.0), ('age', -0.007791681308935741), ('spends', 0.005119789669724568), ('impressions', 0.18769276821261208)]\n",
      "\n",
      "\n",
      "alpha=0.7222222222222222\n",
      "[('Date', -0.0), ('campaign_platform', -0.0), ('campaign_type', -0.0), ('communication_medium', 0.0), ('subchannel', -0.0), ('audience_type', -0.0), ('creative_type', -0.0), ('creative_name', 0.0), ('device', -0.0), ('age', -0.00786025180290435), ('spends', 0.005145541497174943), ('impressions', 0.18818104499335045)]\n",
      "\n",
      "\n",
      "alpha=0.8111111111111111\n",
      "[('Date', -0.0), ('campaign_platform', -0.0), ('campaign_type', -0.0), ('communication_medium', 0.0), ('subchannel', -0.0), ('audience_type', -0.0), ('creative_type', -0.0), ('creative_name', 0.0), ('device', -0.0), ('age', -0.007845345250461096), ('spends', 0.0051507811878779945), ('impressions', 0.18773562265736923)]\n",
      "\n",
      "\n",
      "alpha=0.9\n",
      "[('Date', -0.0), ('campaign_platform', -0.0), ('campaign_type', -0.0), ('communication_medium', 0.0), ('subchannel', -0.0), ('audience_type', -0.0), ('creative_type', -0.0), ('creative_name', 0.0), ('device', -0.0), ('age', -0.007830601955206648), ('spends', 0.005155802766157722), ('impressions', 0.1873028125793205)]\n",
      "\n",
      "\n",
      "[15.808259542349166, 15.885780555581416, 16.01809135118326, 16.18760250392733, 16.395086864703224, 16.65000943870573, 16.92978901196049, 17.223411871189903, 17.224153305020717, 17.225040003245084]\n",
      "\n",
      "\n",
      "\n",
      "MSE: \n",
      "Linear_reg = 15.44, \n",
      "Ridge = 15.434996072891709, \n",
      "Lasso = 15.808259542349166\n"
     ]
    }
   ],
   "source": [
    "# Lasso Regression\n",
    "\n",
    "# lasso = linear_model.Lasso()\n",
    "# print(cross_val_score(lasso, X_train, y_train, cv=3))\n",
    "\n",
    "alpha=np.linspace(0.1,0.9,10)\n",
    "lasso_sse=[]\n",
    "\n",
    "for a in alpha:\n",
    "    print('alpha={}'.format(a))\n",
    "    \n",
    "    #build ridge model and predict\n",
    "    l1=linear_model.Lasso(alpha=a).fit(X_train,y_train)\n",
    "    p3= l1.predict(X_test)\n",
    "\n",
    "    #calc the sse\n",
    "    el1=np.mean((p3-y_test)**2)\n",
    "    lasso_sse.append(el1)\n",
    "\n",
    "    #print the coefficients\n",
    "    l_coeff =list(l1.coef_)\n",
    "    print(list(zip(cols,l_coeff)))\n",
    "    print(\"\\n\")\n",
    "    \n",
    "print(lasso_sse)\n",
    "min(lasso_sse)\n",
    "\n",
    "print(\"\\n\\n\")\n",
    "print(\"MSE: \\nLinear_reg = {}, \\nRidge = {}, \\nLasso = {}\".format(mse,min(ridge_sse),min(lasso_sse)))"
   ]
  },
  {
   "cell_type": "code",
   "execution_count": null,
   "metadata": {},
   "outputs": [],
   "source": []
  },
  {
   "cell_type": "code",
   "execution_count": null,
   "metadata": {},
   "outputs": [],
   "source": []
  }
 ],
 "metadata": {
  "kernelspec": {
   "display_name": "Python 3",
   "language": "python",
   "name": "python3"
  },
  "language_info": {
   "codemirror_mode": {
    "name": "ipython",
    "version": 3
   },
   "file_extension": ".py",
   "mimetype": "text/x-python",
   "name": "python",
   "nbconvert_exporter": "python",
   "pygments_lexer": "ipython3",
   "version": "3.7.3"
  }
 },
 "nbformat": 4,
 "nbformat_minor": 2
}
